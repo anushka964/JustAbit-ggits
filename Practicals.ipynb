{
  "nbformat": 4,
  "nbformat_minor": 0,
  "metadata": {
    "colab": {
      "provenance": [],
      "toc_visible": true,
      "authorship_tag": "ABX9TyOBw/jmpugjRTxzPcDBh56C",
      "include_colab_link": true
    },
    "kernelspec": {
      "name": "python3",
      "display_name": "Python 3"
    },
    "language_info": {
      "name": "python"
    }
  },
  "cells": [
    {
      "cell_type": "markdown",
      "metadata": {
        "id": "view-in-github",
        "colab_type": "text"
      },
      "source": [
        "<a href=\"https://colab.research.google.com/github/anushka964/JustAbit-ggits/blob/main/Practicals.ipynb\" target=\"_parent\"><img src=\"https://colab.research.google.com/assets/colab-badge.svg\" alt=\"Open In Colab\"/></a>"
      ]
    },
    {
      "cell_type": "code",
      "execution_count": null,
      "metadata": {
        "colab": {
          "base_uri": "https://localhost:8080/"
        },
        "id": "3jnOLFq9fSRO",
        "outputId": "a1055c33-52f7-465b-e3cd-6bf6259f1462"
      },
      "outputs": [
        {
          "output_type": "stream",
          "name": "stdout",
          "text": [
            "Enter number of elemets in the list: 4\n",
            "Enter the list elements: 12\n",
            "Enter the list elements: 34\n",
            "Enter the list elements: 45\n",
            "Enter the list elements: 81\n",
            "Maximum element in the list is:  81\n"
          ]
        }
      ],
      "source": [
        "#Program to find maximum number from list of numbers\n",
        "n= int(input(\"Enter number of elemets in the list: \"))\n",
        "num_list = []\n",
        "\n",
        "for i in range(0,n):\n",
        "    num = int(input(\"Enter the list elements: \"))\n",
        "    num_list.append(num)\n",
        "\n",
        "def FindMax(num_list):\n",
        "  max=num_list[0]\n",
        "  for i in range(1,len(num_list)):\n",
        "    if num_list[i]>max:\n",
        "      max=num_list[i]\n",
        "  return max\n",
        "print(\"Maximum element in the list is: \", FindMax(num_list))\n",
        "\n"
      ]
    },
    {
      "cell_type": "markdown",
      "source": [
        "Time Complexity : O(n)\n",
        "Space Complexity: O(1)"
      ],
      "metadata": {
        "id": "o6WvOL8MmRyI"
      }
    },
    {
      "cell_type": "code",
      "source": [
        "# PROGRAM TO PERFORM LINEAR SEARCH\n",
        "n = int(input(\"Enter number of elements in the list: \"))\n",
        "num_list = []\n",
        "\n",
        "for i in range(0,n):\n",
        "    num = int(input(\"Enter the list elements: \"))\n",
        "    num_list.append(num)\n",
        "key = int(input(\"Enter the element you want to search: \"))\n",
        "def linearSearch(num_list,key):\n",
        "  for i in range(0,len(num_list)):\n",
        "    if num_list[i]==key:\n",
        "      return i\n",
        "  else:\n",
        "    return -1\n",
        "index = linearSearch(num_list,key)\n",
        "if index==-1:\n",
        "    print(\"Element not found\")\n",
        "else:\n",
        "    print(\"Element found at index: \", index)"
      ],
      "metadata": {
        "colab": {
          "base_uri": "https://localhost:8080/"
        },
        "id": "CJXsMeBalcnL",
        "outputId": "61fef287-8b88-4af5-a5ca-c27c08c62896"
      },
      "execution_count": null,
      "outputs": [
        {
          "output_type": "stream",
          "name": "stdout",
          "text": [
            "Enter number of elements in the list: 4\n",
            "Enter the list elements: 1\n",
            "Enter the list elements: 2\n",
            "Enter the list elements: 3\n",
            "Enter the list elements: 4\n",
            "Enter the element you want to search: 3\n",
            "Element found at index:  2\n"
          ]
        }
      ]
    },
    {
      "cell_type": "markdown",
      "source": [
        "**Note point**: // integer division operator\n",
        "here // will \\ return floor value after divison\n",
        "whereas if we used / operator the output can a floating point number"
      ],
      "metadata": {
        "id": "TIdZXOJ1qze5"
      }
    },
    {
      "cell_type": "markdown",
      "source": [
        "Binary Serach used Divide and Conquer\n",
        "Take out mid and search on required half only"
      ],
      "metadata": {
        "id": "CYKJXCgbAAqJ"
      }
    },
    {
      "cell_type": "code",
      "source": [
        "#Program to perform Binary Search\n",
        "\n",
        "n = int(input(\"Enter number of elements in the list: \"))\n",
        "num_list = []\n",
        "\n",
        "for i in range(0,n):\n",
        "    num = int(input(\"Enter the list elements: \"))\n",
        "    num_list.append(num)\n",
        "key = int(input(\"Enter the element you want to search: \"))\n",
        "\n",
        "\n",
        "def BinarySearch(num_list,key):\n",
        "  low = 0;\n",
        "  high = n-1;\n",
        "  while low<high:\n",
        "    mid = low + (high-low)//2 # to get floor integer value after division\n",
        "    if num_list[mid] == key:\n",
        "      return mid\n",
        "    elif num_list[mid]<key:\n",
        "      low = mid+1\n",
        "    else:\n",
        "      high = mid-1\n",
        "  return -1\n",
        "index = BinarySearch(num_list,key)\n",
        "if index==-1:\n",
        "    print(\"Element not found\")\n",
        "else:\n",
        "    print(\"Element found at index: \", index)\n"
      ],
      "metadata": {
        "colab": {
          "base_uri": "https://localhost:8080/"
        },
        "id": "Zrmfr-r-qAFN",
        "outputId": "12ebffb8-306a-48cf-d95d-f897b6957f87",
        "collapsed": true
      },
      "execution_count": null,
      "outputs": [
        {
          "output_type": "stream",
          "name": "stdout",
          "text": [
            "Enter number of elements in the list: 4\n",
            "Enter the list elements: 45\n",
            "Enter the list elements: 1\n",
            "Enter the list elements: 78\n",
            "Enter the list elements: 96\n",
            "Enter the element you want to search: 78\n",
            "Element found at index:  2\n"
          ]
        }
      ]
    },
    {
      "cell_type": "markdown",
      "source": [
        "BUBBLE SORT\n",
        "Just swap the element if found greater\n",
        "\n",
        "*   Round 1 brings the max element in the last index"
      ],
      "metadata": {
        "id": "W-iKrTjhATXe"
      }
    },
    {
      "cell_type": "code",
      "source": [
        "# Program to perform Bubble Sort\n",
        "n = int(input(\"Enter number of elements in the list: \"))\n",
        "num_list = []\n",
        "\n",
        "for i in range(0,n):\n",
        "    num = int(input(\"Enter the list elements: \"))\n",
        "    num_list.append(num)\n",
        "for i in range(0,n):\n",
        "  print(\"Original list :\",num_list[i])\n",
        "\n",
        "def BubbleSort(num_list):\n",
        "  n = len(num_list)\n",
        "  for i in range(0,n-1):\n",
        "    for j in range(0,n-i-1): #last element is already sorted\n",
        "      if num_list[j]>num_list[j+1]:\n",
        "        num_list[j],num_list[j+1] = num_list[j+1],num_list[j]\n",
        "  return num_list\n",
        "print(\"Sorted list is: \", BubbleSort(num_list))\n"
      ],
      "metadata": {
        "colab": {
          "base_uri": "https://localhost:8080/"
        },
        "id": "l6sStBaHuYGH",
        "outputId": "f20aed6e-05ab-4144-d817-381acbc2f9ce",
        "collapsed": true
      },
      "execution_count": null,
      "outputs": [
        {
          "output_type": "stream",
          "name": "stdout",
          "text": [
            "Enter number of elements in the list: 5\n",
            "Enter the list elements: 94\n",
            "Enter the list elements: 12\n",
            "Enter the list elements: 5\n",
            "Enter the list elements: 66\n",
            "Enter the list elements: 75\n",
            "94\n",
            "12\n",
            "5\n",
            "66\n",
            "75\n",
            "Sorted list is:  [5, 12, 66, 75, 94]\n"
          ]
        }
      ]
    },
    {
      "cell_type": "markdown",
      "source": [
        "SELECTION SORT\n",
        " * Brings the smallest element in front\n",
        " * assign min to index 0\n",
        " * find a element less than value at 0 then swap"
      ],
      "metadata": {
        "id": "BE4VeF8iBJUL"
      }
    },
    {
      "cell_type": "code",
      "source": [
        "# Program for Selection sort\n",
        "n = int(input(\"Enter number of elements in the list: \"))\n",
        "num_list = []\n",
        "\n",
        "for i in range(0,n):\n",
        "    num = int(input(\"Enter the list elements: \"))\n",
        "    num_list.append(num)\n",
        "for i in range(0,n):\n",
        "  print(\"Original list: \",num_list[i])\n",
        "\n",
        "def SelectionSort(num_list):\n",
        "  min = num_list[0]\n",
        "  for i in range(0,len(num_list)):\n",
        "    min_index = i\n",
        "    for  j in range(i+1,len(num_list)):\n",
        "      if num_list[j]<num:\n",
        "        min_index = j\n",
        "    num_list[i],num_list[min_index] = num_list[min_index],num_list[i]\n",
        "  return num_list\n",
        "print(\"Sorted list is: \", SelectionSort(num_list))"
      ],
      "metadata": {
        "colab": {
          "base_uri": "https://localhost:8080/"
        },
        "collapsed": true,
        "id": "n7p1NIdT-kVg",
        "outputId": "1afcd54b-7e5c-487c-fcec-8b50068eede5"
      },
      "execution_count": 4,
      "outputs": [
        {
          "output_type": "stream",
          "name": "stdout",
          "text": [
            "Enter number of elements in the list: 4\n",
            "Enter the list elements: 45\n",
            "Enter the list elements: 18\n",
            "Enter the list elements: 6\n",
            "Enter the list elements: 34\n",
            "Original list:  45\n",
            "Original list:  18\n",
            "Original list:  6\n",
            "Original list:  34\n",
            "Sorted list is:  [6, 18, 45, 34]\n"
          ]
        }
      ]
    }
  ]
}